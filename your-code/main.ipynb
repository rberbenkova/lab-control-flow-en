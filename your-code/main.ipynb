{
 "cells": [
  {
   "cell_type": "markdown",
   "metadata": {},
   "source": [
    "## Words"
   ]
  },
  {
   "cell_type": "code",
   "execution_count": 1,
   "metadata": {},
   "outputs": [],
   "source": [
    "words = ['play', 'filling', 'bar', 'theatre', 'easygoing', 'date', 'lead', 'that', 'story',  'island']"
   ]
  },
  {
   "cell_type": "markdown",
   "metadata": {},
   "source": [
    "**Print every word in upper case**"
   ]
  },
  {
   "cell_type": "code",
   "execution_count": 2,
   "metadata": {},
   "outputs": [
    {
     "name": "stdout",
     "output_type": "stream",
     "text": [
      "PLAY\n",
      "FILLING\n",
      "BAR\n",
      "THEATRE\n",
      "EASYGOING\n",
      "DATE\n",
      "LEAD\n",
      "THAT\n",
      "STORY\n",
      "ISLAND\n"
     ]
    }
   ],
   "source": [
    "for word in words:\n",
    "    print(word.upper())"
   ]
  },
  {
   "cell_type": "markdown",
   "metadata": {},
   "source": [
    "**Create a new list containing only words with 5 or more letters**"
   ]
  },
  {
   "cell_type": "code",
   "execution_count": null,
   "metadata": {},
   "outputs": [
    {
     "name": "stdout",
     "output_type": "stream",
     "text": [
      "['filling', 'theatre', 'easygoing', 'story', 'island']\n"
     ]
    }
   ],
   "source": [
    "special_words = [word for word in words if len(word) >= 5]\n",
    "    print(special_words)"
   ]
  },
  {
   "cell_type": "markdown",
   "metadata": {},
   "source": [
    "**Print the first word starting with \"t\"**"
   ]
  },
  {
   "cell_type": "code",
   "execution_count": null,
   "metadata": {},
   "outputs": [],
   "source": [
    "for word in words:\n",
    "    if word.startswith('t')\n",
    "        print(word)\n",
    "        break"
   ]
  },
  {
   "cell_type": "markdown",
   "metadata": {},
   "source": [
    "## Numbers"
   ]
  },
  {
   "cell_type": "markdown",
   "metadata": {},
   "source": [
    "**Create a list containing the square of every number from 1 to 10**"
   ]
  },
  {
   "cell_type": "code",
   "execution_count": 5,
   "metadata": {},
   "outputs": [
    {
     "name": "stdout",
     "output_type": "stream",
     "text": [
      "[1, 4, 9, 16, 25, 36, 49, 64, 81, 100]\n"
     ]
    }
   ],
   "source": [
    "squares = [x**2 for x in range(1,11)]\n",
    "print (squares)"
   ]
  },
  {
   "cell_type": "markdown",
   "metadata": {},
   "source": [
    "**Print a list containing the square of every odd number from 1 to 10**"
   ]
  },
  {
   "cell_type": "code",
   "execution_count": 16,
   "metadata": {},
   "outputs": [
    {
     "name": "stdout",
     "output_type": "stream",
     "text": [
      "[1, 9, 25, 49, 81]\n"
     ]
    }
   ],
   "source": [
    "odd_squares = [x**2 for x in range(1,11)\n",
    "    if x % 2 != 0]\n",
    "print (odd_squares)"
   ]
  },
  {
   "cell_type": "markdown",
   "metadata": {},
   "source": []
  },
  {
   "cell_type": "markdown",
   "metadata": {},
   "source": [
    "**Create a list with the squares of all multiples of 8 below 1000**"
   ]
  },
  {
   "cell_type": "code",
   "execution_count": 21,
   "metadata": {},
   "outputs": [
    {
     "name": "stdout",
     "output_type": "stream",
     "text": [
      "[1, 4, 9, 16, 25, 36, 49, 81, 100, 121, 144, 169, 196, 225, 289, 324, 361, 400, 441, 484, 529, 625, 676, 729, 784, 841, 900, 961, 1089, 1156, 1225, 1296, 1369, 1444, 1521, 1681, 1764, 1849, 1936, 2025, 2116, 2209, 2401, 2500, 2601, 2704, 2809, 2916, 3025, 3249, 3364, 3481, 3600, 3721, 3844, 3969, 4225, 4356, 4489, 4624, 4761, 4900, 5041, 5329, 5476, 5625, 5776, 5929, 6084, 6241, 6561, 6724, 6889, 7056, 7225, 7396, 7569, 7921, 8100, 8281, 8464, 8649, 8836, 9025, 9409, 9604, 9801, 10000, 10201, 10404, 10609, 11025, 11236, 11449, 11664, 11881, 12100, 12321, 12769, 12996, 13225, 13456, 13689, 13924, 14161, 14641, 14884, 15129, 15376, 15625, 15876, 16129, 16641, 16900, 17161, 17424, 17689, 17956, 18225, 18769, 19044, 19321, 19600, 19881, 20164, 20449, 21025, 21316, 21609, 21904, 22201, 22500, 22801, 23409, 23716, 24025, 24336, 24649, 24964, 25281, 25921, 26244, 26569, 26896, 27225, 27556, 27889, 28561, 28900, 29241, 29584, 29929, 30276, 30625, 31329, 31684, 32041, 32400, 32761, 33124, 33489, 34225, 34596, 34969, 35344, 35721, 36100, 36481, 37249, 37636, 38025, 38416, 38809, 39204, 39601, 40401, 40804, 41209, 41616, 42025, 42436, 42849, 43681, 44100, 44521, 44944, 45369, 45796, 46225, 47089, 47524, 47961, 48400, 48841, 49284, 49729, 50625, 51076, 51529, 51984, 52441, 52900, 53361, 54289, 54756, 55225, 55696, 56169, 56644, 57121, 58081, 58564, 59049, 59536, 60025, 60516, 61009, 62001, 62500, 63001, 63504, 64009, 64516, 65025, 66049, 66564, 67081, 67600, 68121, 68644, 69169, 70225, 70756, 71289, 71824, 72361, 72900, 73441, 74529, 75076, 75625, 76176, 76729, 77284, 77841, 78961, 79524, 80089, 80656, 81225, 81796, 82369, 83521, 84100, 84681, 85264, 85849, 86436, 87025, 88209, 88804, 89401, 90000, 90601, 91204, 91809, 93025, 93636, 94249, 94864, 95481, 96100, 96721, 97969, 98596, 99225, 99856, 100489, 101124, 101761, 103041, 103684, 104329, 104976, 105625, 106276, 106929, 108241, 108900, 109561, 110224, 110889, 111556, 112225, 113569, 114244, 114921, 115600, 116281, 116964, 117649, 119025, 119716, 120409, 121104, 121801, 122500, 123201, 124609, 125316, 126025, 126736, 127449, 128164, 128881, 130321, 131044, 131769, 132496, 133225, 133956, 134689, 136161, 136900, 137641, 138384, 139129, 139876, 140625, 142129, 142884, 143641, 144400, 145161, 145924, 146689, 148225, 148996, 149769, 150544, 151321, 152100, 152881, 154449, 155236, 156025, 156816, 157609, 158404, 159201, 160801, 161604, 162409, 163216, 164025, 164836, 165649, 167281, 168100, 168921, 169744, 170569, 171396, 172225, 173889, 174724, 175561, 176400, 177241, 178084, 178929, 180625, 181476, 182329, 183184, 184041, 184900, 185761, 187489, 188356, 189225, 190096, 190969, 191844, 192721, 194481, 195364, 196249, 197136, 198025, 198916, 199809, 201601, 202500, 203401, 204304, 205209, 206116, 207025, 208849, 209764, 210681, 211600, 212521, 213444, 214369, 216225, 217156, 218089, 219024, 219961, 220900, 221841, 223729, 224676, 225625, 226576, 227529, 228484, 229441, 231361, 232324, 233289, 234256, 235225, 236196, 237169, 239121, 240100, 241081, 242064, 243049, 244036, 245025, 247009, 248004, 249001, 250000, 251001, 252004, 253009, 255025, 256036, 257049, 258064, 259081, 260100, 261121, 263169, 264196, 265225, 266256, 267289, 268324, 269361, 271441, 272484, 273529, 274576, 275625, 276676, 277729, 279841, 280900, 281961, 283024, 284089, 285156, 286225, 288369, 289444, 290521, 291600, 292681, 293764, 294849, 297025, 298116, 299209, 300304, 301401, 302500, 303601, 305809, 306916, 308025, 309136, 310249, 311364, 312481, 314721, 315844, 316969, 318096, 319225, 320356, 321489, 323761, 324900, 326041, 327184, 328329, 329476, 330625, 332929, 334084, 335241, 336400, 337561, 338724, 339889, 342225, 343396, 344569, 345744, 346921, 348100, 349281, 351649, 352836, 354025, 355216, 356409, 357604, 358801, 361201, 362404, 363609, 364816, 366025, 367236, 368449, 370881, 372100, 373321, 374544, 375769, 376996, 378225, 380689, 381924, 383161, 384400, 385641, 386884, 388129, 390625, 391876, 393129, 394384, 395641, 396900, 398161, 400689, 401956, 403225, 404496, 405769, 407044, 408321, 410881, 412164, 413449, 414736, 416025, 417316, 418609, 421201, 422500, 423801, 425104, 426409, 427716, 429025, 431649, 432964, 434281, 435600, 436921, 438244, 439569, 442225, 443556, 444889, 446224, 447561, 448900, 450241, 452929, 454276, 455625, 456976, 458329, 459684, 461041, 463761, 465124, 466489, 467856, 469225, 470596, 471969, 474721, 476100, 477481, 478864, 480249, 481636, 483025, 485809, 487204, 488601, 490000, 491401, 492804, 494209, 497025, 498436, 499849, 501264, 502681, 504100, 505521, 508369, 509796, 511225, 512656, 514089, 515524, 516961, 519841, 521284, 522729, 524176, 525625, 527076, 528529, 531441, 532900, 534361, 535824, 537289, 538756, 540225, 543169, 544644, 546121, 547600, 549081, 550564, 552049, 555025, 556516, 558009, 559504, 561001, 562500, 564001, 567009, 568516, 570025, 571536, 573049, 574564, 576081, 579121, 580644, 582169, 583696, 585225, 586756, 588289, 591361, 592900, 594441, 595984, 597529, 599076, 600625, 603729, 605284, 606841, 608400, 609961, 611524, 613089, 616225, 617796, 619369, 620944, 622521, 624100, 625681, 628849, 630436, 632025, 633616, 635209, 636804, 638401, 641601, 643204, 644809, 646416, 648025, 649636, 651249, 654481, 656100, 657721, 659344, 660969, 662596, 664225, 667489, 669124, 670761, 672400, 674041, 675684, 677329, 680625, 682276, 683929, 685584, 687241, 688900, 690561, 693889, 695556, 697225, 698896, 700569, 702244, 703921, 707281, 708964, 710649, 712336, 714025, 715716, 717409, 720801, 722500, 724201, 725904, 727609, 729316, 731025, 734449, 736164, 737881, 739600, 741321, 743044, 744769, 748225, 749956, 751689, 753424, 755161, 756900, 758641, 762129, 763876, 765625, 767376, 769129, 770884, 772641, 776161, 777924, 779689, 781456, 783225, 784996, 786769, 790321, 792100, 793881, 795664, 797449, 799236, 801025, 804609, 806404, 808201, 810000, 811801, 813604, 815409, 819025, 820836, 822649, 824464, 826281, 828100, 829921, 833569, 835396, 837225, 839056, 840889, 842724, 844561, 848241, 850084, 851929, 853776, 855625, 857476, 859329, 863041, 864900, 866761, 868624, 870489, 872356, 874225, 877969, 879844, 881721, 883600, 885481, 887364, 889249, 893025, 894916, 896809, 898704, 900601, 902500, 904401, 908209, 910116, 912025, 913936, 915849, 917764, 919681, 923521, 925444, 927369, 929296, 931225, 933156, 935089, 938961, 940900, 942841, 944784, 946729, 948676, 950625, 954529, 956484, 958441, 960400, 962361, 964324, 966289, 970225, 972196, 974169, 976144, 978121, 980100, 982081, 986049, 988036, 990025, 992016, 994009, 996004, 998001]\n"
     ]
    }
   ],
   "source": [
    "multiplesof8_squares = [x**2 for x in range(1,1001) if x % 8 != 0]\n",
    "print (multiplesof8_squares)"
   ]
  },
  {
   "cell_type": "markdown",
   "metadata": {},
   "source": [
    "## People"
   ]
  },
  {
   "cell_type": "code",
   "execution_count": 10,
   "metadata": {},
   "outputs": [],
   "source": [
    "people = [\n",
    "    {\n",
    "        \"name\": \"Juan\",\n",
    "        \"age\": 34,\n",
    "        \"n_kids\": 2\n",
    "    },\n",
    "    {\n",
    "        \"name\": \"Pepe\",\n",
    "        \"age\": 27,\n",
    "        \"n_kids\": 0\n",
    "    },\n",
    "    {\n",
    "        \"name\": \"Sonia\",\n",
    "        \"age\": 41,\n",
    "        \"n_kids\": 1\n",
    "    },\n",
    "    {\n",
    "        \"name\": \"Lucía\",\n",
    "        \"age\": 22,\n",
    "        \"n_kids\": 2\n",
    "    },\n",
    "    {\n",
    "        \"name\": \"Leo\",\n",
    "        \"age\": 55,\n",
    "        \"n_kids\": 5\n",
    "    }\n",
    "]"
   ]
  },
  {
   "cell_type": "markdown",
   "metadata": {},
   "source": [
    "**How many people are there?**"
   ]
  },
  {
   "cell_type": "code",
   "execution_count": null,
   "metadata": {},
   "outputs": [
    {
     "name": "stdout",
     "output_type": "stream",
     "text": [
      "Number of people is 5\n"
     ]
    }
   ],
   "source": [
    "num_people = len(people)\n",
    "print (\"Number of people is\", num_people)\n",
    "\n"
   ]
  },
  {
   "cell_type": "markdown",
   "metadata": {},
   "source": [
    "**How many people have kids**?"
   ]
  },
  {
   "cell_type": "code",
   "execution_count": 23,
   "metadata": {},
   "outputs": [
    {
     "name": "stdout",
     "output_type": "stream",
     "text": [
      "4 people have kids\n"
     ]
    }
   ],
   "source": [
    "people_with_kids = sum(1 for person in people if person[\"n_kids\"] > 0)\n",
    "print (people_with_kids, \"people have kids\")"
   ]
  },
  {
   "cell_type": "markdown",
   "metadata": {},
   "source": [
    "**How many kids do they have in total?**"
   ]
  },
  {
   "cell_type": "code",
   "execution_count": 25,
   "metadata": {},
   "outputs": [
    {
     "name": "stdout",
     "output_type": "stream",
     "text": [
      "They have 10 kids in total.\n"
     ]
    }
   ],
   "source": [
    "total_kids = sum(person[\"n_kids\"] for person in people)\n",
    "print(\"They have\", total_kids, \"kids in total.\")"
   ]
  },
  {
   "cell_type": "markdown",
   "metadata": {},
   "source": [
    "**In a year's time, names ending with \"a\" will have an extra kid. Create a list of dictionaries with people's info in a year's time**"
   ]
  },
  {
   "cell_type": "code",
   "execution_count": 29,
   "metadata": {},
   "outputs": [
    {
     "name": "stdout",
     "output_type": "stream",
     "text": [
      "[{'name': 'Juan', 'age': 35, 'n_kids': 2}, {'name': 'Pepe', 'age': 28, 'n_kids': 0}, {'name': 'Sonia', 'age': 42, 'n_kids': 2}, {'name': 'Lucía', 'age': 23, 'n_kids': 3}, {'name': 'Leo', 'age': 56, 'n_kids': 5}]\n"
     ]
    }
   ],
   "source": [
    "peoples_info_next_year = [\n",
    "    {\"name\": person[\"name\"],\n",
    "     \"age\": person[\"age\"] + 1,\n",
    "     \"n_kids\": person[\"n_kids\"] + (1 if person[\"name\"].endswith(\"a\") else 0)\n",
    "     }\n",
    "    for person in people\n",
    "]\n",
    "print(peoples_info_next_year)\n"
   ]
  }
 ],
 "metadata": {
  "kernelspec": {
   "display_name": "Python 3",
   "language": "python",
   "name": "python3"
  },
  "language_info": {
   "codemirror_mode": {
    "name": "ipython",
    "version": 3
   },
   "file_extension": ".py",
   "mimetype": "text/x-python",
   "name": "python",
   "nbconvert_exporter": "python",
   "pygments_lexer": "ipython3",
   "version": "3.13.7"
  },
  "toc": {
   "base_numbering": 1,
   "nav_menu": {},
   "number_sections": false,
   "sideBar": true,
   "skip_h1_title": false,
   "title_cell": "Table of Contents",
   "title_sidebar": "Contents",
   "toc_cell": false,
   "toc_position": {},
   "toc_section_display": true,
   "toc_window_display": true
  },
  "varInspector": {
   "cols": {
    "lenName": 16,
    "lenType": 16,
    "lenVar": 40
   },
   "kernels_config": {
    "python": {
     "delete_cmd_postfix": "",
     "delete_cmd_prefix": "del ",
     "library": "var_list.py",
     "varRefreshCmd": "print(var_dic_list())"
    },
    "r": {
     "delete_cmd_postfix": ") ",
     "delete_cmd_prefix": "rm(",
     "library": "var_list.r",
     "varRefreshCmd": "cat(var_dic_list()) "
    }
   },
   "types_to_exclude": [
    "module",
    "function",
    "builtin_function_or_method",
    "instance",
    "_Feature"
   ],
   "window_display": false
  }
 },
 "nbformat": 4,
 "nbformat_minor": 4
}
